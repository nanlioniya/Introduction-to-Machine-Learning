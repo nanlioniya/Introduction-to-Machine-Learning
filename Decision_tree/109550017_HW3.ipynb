{
 "cells": [
  {
   "cell_type": "markdown",
   "metadata": {},
   "source": [
    "## HW3: Decision Tree, AdaBoost and Random Forest\n",
    "In hw3, you need to implement decision tree, adaboost and random forest by using only numpy, then train your implemented model by the provided dataset. TA will use the on-hold test label to evaluate your model performance.\n",
    "\n",
    "Please note that only **NUMPY** can be used to implement your model, you will get no points by simply calling `sklearn.tree.DecisionTreeClassifier`"
   ]
  },
  {
   "cell_type": "code",
   "execution_count": 1,
   "metadata": {},
   "outputs": [],
   "source": [
    "import numpy as np\n",
    "import pandas as pd\n",
    "from sklearn.metrics import accuracy_score\n",
    "import matplotlib.pyplot as plt"
   ]
  },
  {
   "cell_type": "markdown",
   "metadata": {},
   "source": [
    "## Question 1\n",
    "Gini Index or Entropy is often used for measuring the “best” splitting of the data. Please compute the Entropy and Gini Index of provided data. Please use the formula from [page 5 of hw3 slides](https://docs.google.com/presentation/d/1kIe_-YZdemRMmr_3xDy-l0OS2EcLgDH7Uan14tlU5KE/edit#slide=id.gd542a5ff75_0_15)"
   ]
  },
  {
   "cell_type": "code",
   "execution_count": 2,
   "metadata": {},
   "outputs": [],
   "source": [
    "# adding sample weights to evaluation causes the formulation probability \n",
    "# to differ, for sample weights != none, \n",
    "# probability is (sample_weight of same label)/(sum of sample weights)\n",
    "\n",
    "\n",
    "# gini = 1 - sum(pi**2, pi in feature i)\n",
    "def gini(sequence, sample_weight=None):\n",
    "    \n",
    "    values, cnt = np.unique(sequence, return_counts=True)\n",
    "    gini_val = 0\n",
    "    if sample_weight is None:\n",
    "        p = cnt/sequence.shape[0]\n",
    "        gini_val = np.sum([pi**2 for pi in p])\n",
    "    \n",
    "    else:\n",
    "        weight_sum = sum(sample_weight)\n",
    "        for value in values:\n",
    "            idx = [idx for idx, x in enumerate(sequence) if x == value]\n",
    "            count = np.sum(sample_weight[idx])\n",
    "            gini_val += (count / weight_sum)**2\n",
    "    \n",
    "    return 1 - gini_val\n",
    "\n",
    "\n",
    "# entropy = -sum(pj*log(pj))\n",
    "def entropy(sequence, sample_weight=None):\n",
    "    \n",
    "    values, cnt = np.unique(sequence, return_counts=True)\n",
    "    entropy_val = 0\n",
    "    if sample_weight is None:\n",
    "        p = cnt/sequence.shape[0]\n",
    "        entropy_val = -1*np.sum([pj*np.log2(pj) for pj in p]) \n",
    "    \n",
    "    else:\n",
    "        weight_sum = sum(sample_weight)\n",
    "        \n",
    "        for value in values:\n",
    "            idx = [idx for idx, x in enumerate(sequence) if x == value]\n",
    "            count = np.sum(sample_weight[idx])\n",
    "            entropy_val += -(count / weight_sum) * np.log2(count / weight_sum)\n",
    "    \n",
    "    return entropy_val"
   ]
  },
  {
   "cell_type": "code",
   "execution_count": 3,
   "metadata": {},
   "outputs": [],
   "source": [
    "# 1 = class 1,\n",
    "# 2 = class 2\n",
    "data = np.array([1,2,1,1,1,1,2,2,1,1,2])"
   ]
  },
  {
   "cell_type": "code",
   "execution_count": 4,
   "metadata": {},
   "outputs": [
    {
     "name": "stdout",
     "output_type": "stream",
     "text": [
      "Gini of data is  0.4628099173553719\n"
     ]
    }
   ],
   "source": [
    "print(\"Gini of data is \", gini(data))"
   ]
  },
  {
   "cell_type": "code",
   "execution_count": 5,
   "metadata": {},
   "outputs": [
    {
     "name": "stdout",
     "output_type": "stream",
     "text": [
      "Entropy of data is  0.9456603046006401\n"
     ]
    }
   ],
   "source": [
    "print(\"Entropy of data is \", entropy(data))"
   ]
  },
  {
   "cell_type": "markdown",
   "metadata": {},
   "source": [
    "## Load data\n",
    "It is a binary classifiation dataset that classify if price is high or not for a cell phone, the label is stored in `price_range` column."
   ]
  },
  {
   "cell_type": "code",
   "execution_count": 6,
   "metadata": {
    "scrolled": true
   },
   "outputs": [
    {
     "name": "stdout",
     "output_type": "stream",
     "text": [
      "(1200, 21)\n",
      "(300, 21)\n"
     ]
    },
    {
     "data": {
      "text/html": [
       "<div>\n",
       "<style scoped>\n",
       "    .dataframe tbody tr th:only-of-type {\n",
       "        vertical-align: middle;\n",
       "    }\n",
       "\n",
       "    .dataframe tbody tr th {\n",
       "        vertical-align: top;\n",
       "    }\n",
       "\n",
       "    .dataframe thead th {\n",
       "        text-align: right;\n",
       "    }\n",
       "</style>\n",
       "<table border=\"1\" class=\"dataframe\">\n",
       "  <thead>\n",
       "    <tr style=\"text-align: right;\">\n",
       "      <th></th>\n",
       "      <th>battery_power</th>\n",
       "      <th>blue</th>\n",
       "      <th>clock_speed</th>\n",
       "      <th>dual_sim</th>\n",
       "      <th>fc</th>\n",
       "      <th>four_g</th>\n",
       "      <th>int_memory</th>\n",
       "      <th>m_dep</th>\n",
       "      <th>mobile_wt</th>\n",
       "      <th>n_cores</th>\n",
       "      <th>...</th>\n",
       "      <th>px_height</th>\n",
       "      <th>px_width</th>\n",
       "      <th>ram</th>\n",
       "      <th>sc_h</th>\n",
       "      <th>sc_w</th>\n",
       "      <th>talk_time</th>\n",
       "      <th>three_g</th>\n",
       "      <th>touch_screen</th>\n",
       "      <th>wifi</th>\n",
       "      <th>price_range</th>\n",
       "    </tr>\n",
       "  </thead>\n",
       "  <tbody>\n",
       "    <tr>\n",
       "      <th>0</th>\n",
       "      <td>1583</td>\n",
       "      <td>1</td>\n",
       "      <td>2.1</td>\n",
       "      <td>1</td>\n",
       "      <td>11</td>\n",
       "      <td>0</td>\n",
       "      <td>14</td>\n",
       "      <td>0.7</td>\n",
       "      <td>148</td>\n",
       "      <td>7</td>\n",
       "      <td>...</td>\n",
       "      <td>942</td>\n",
       "      <td>1651</td>\n",
       "      <td>1704</td>\n",
       "      <td>17</td>\n",
       "      <td>13</td>\n",
       "      <td>2</td>\n",
       "      <td>1</td>\n",
       "      <td>0</td>\n",
       "      <td>1</td>\n",
       "      <td>1</td>\n",
       "    </tr>\n",
       "    <tr>\n",
       "      <th>1</th>\n",
       "      <td>745</td>\n",
       "      <td>1</td>\n",
       "      <td>0.6</td>\n",
       "      <td>1</td>\n",
       "      <td>5</td>\n",
       "      <td>0</td>\n",
       "      <td>35</td>\n",
       "      <td>0.8</td>\n",
       "      <td>102</td>\n",
       "      <td>8</td>\n",
       "      <td>...</td>\n",
       "      <td>89</td>\n",
       "      <td>1538</td>\n",
       "      <td>2459</td>\n",
       "      <td>14</td>\n",
       "      <td>1</td>\n",
       "      <td>16</td>\n",
       "      <td>1</td>\n",
       "      <td>1</td>\n",
       "      <td>0</td>\n",
       "      <td>0</td>\n",
       "    </tr>\n",
       "    <tr>\n",
       "      <th>2</th>\n",
       "      <td>832</td>\n",
       "      <td>0</td>\n",
       "      <td>0.7</td>\n",
       "      <td>1</td>\n",
       "      <td>2</td>\n",
       "      <td>1</td>\n",
       "      <td>39</td>\n",
       "      <td>0.7</td>\n",
       "      <td>103</td>\n",
       "      <td>4</td>\n",
       "      <td>...</td>\n",
       "      <td>125</td>\n",
       "      <td>1504</td>\n",
       "      <td>1799</td>\n",
       "      <td>5</td>\n",
       "      <td>2</td>\n",
       "      <td>11</td>\n",
       "      <td>1</td>\n",
       "      <td>0</td>\n",
       "      <td>1</td>\n",
       "      <td>0</td>\n",
       "    </tr>\n",
       "    <tr>\n",
       "      <th>3</th>\n",
       "      <td>1175</td>\n",
       "      <td>1</td>\n",
       "      <td>1.3</td>\n",
       "      <td>0</td>\n",
       "      <td>2</td>\n",
       "      <td>0</td>\n",
       "      <td>19</td>\n",
       "      <td>0.3</td>\n",
       "      <td>164</td>\n",
       "      <td>7</td>\n",
       "      <td>...</td>\n",
       "      <td>873</td>\n",
       "      <td>1394</td>\n",
       "      <td>1944</td>\n",
       "      <td>9</td>\n",
       "      <td>4</td>\n",
       "      <td>9</td>\n",
       "      <td>1</td>\n",
       "      <td>1</td>\n",
       "      <td>0</td>\n",
       "      <td>0</td>\n",
       "    </tr>\n",
       "    <tr>\n",
       "      <th>4</th>\n",
       "      <td>695</td>\n",
       "      <td>0</td>\n",
       "      <td>0.5</td>\n",
       "      <td>0</td>\n",
       "      <td>18</td>\n",
       "      <td>1</td>\n",
       "      <td>12</td>\n",
       "      <td>0.6</td>\n",
       "      <td>196</td>\n",
       "      <td>2</td>\n",
       "      <td>...</td>\n",
       "      <td>1649</td>\n",
       "      <td>1829</td>\n",
       "      <td>2855</td>\n",
       "      <td>16</td>\n",
       "      <td>13</td>\n",
       "      <td>7</td>\n",
       "      <td>1</td>\n",
       "      <td>1</td>\n",
       "      <td>1</td>\n",
       "      <td>1</td>\n",
       "    </tr>\n",
       "  </tbody>\n",
       "</table>\n",
       "<p>5 rows × 21 columns</p>\n",
       "</div>"
      ],
      "text/plain": [
       "   battery_power  blue  clock_speed  dual_sim  fc  four_g  int_memory  m_dep  \\\n",
       "0           1583     1          2.1         1  11       0          14    0.7   \n",
       "1            745     1          0.6         1   5       0          35    0.8   \n",
       "2            832     0          0.7         1   2       1          39    0.7   \n",
       "3           1175     1          1.3         0   2       0          19    0.3   \n",
       "4            695     0          0.5         0  18       1          12    0.6   \n",
       "\n",
       "   mobile_wt  n_cores  ...  px_height  px_width   ram  sc_h  sc_w  talk_time  \\\n",
       "0        148        7  ...        942      1651  1704    17    13          2   \n",
       "1        102        8  ...         89      1538  2459    14     1         16   \n",
       "2        103        4  ...        125      1504  1799     5     2         11   \n",
       "3        164        7  ...        873      1394  1944     9     4          9   \n",
       "4        196        2  ...       1649      1829  2855    16    13          7   \n",
       "\n",
       "   three_g  touch_screen  wifi  price_range  \n",
       "0        1             0     1            1  \n",
       "1        1             1     0            0  \n",
       "2        1             0     1            0  \n",
       "3        1             1     0            0  \n",
       "4        1             1     1            1  \n",
       "\n",
       "[5 rows x 21 columns]"
      ]
     },
     "execution_count": 6,
     "metadata": {},
     "output_type": "execute_result"
    }
   ],
   "source": [
    "train_df = pd.read_csv('train.csv')\n",
    "val_df = pd.read_csv('val.csv')\n",
    "print(train_df.shape)\n",
    "print(val_df.shape)\n",
    "\n",
    "train_df.head() # 21 columns = 20 for x_data, 1 for y_data"
   ]
  },
  {
   "cell_type": "code",
   "execution_count": 7,
   "metadata": {},
   "outputs": [],
   "source": [
    "x_train = train_df.iloc[:, 0:-1].values\n",
    "y_train = train_df.iloc[:, -1].values\n",
    "x_test = val_df.iloc[:, 0:-1].values\n",
    "y_test = val_df.iloc[:, -1].values"
   ]
  },
  {
   "cell_type": "markdown",
   "metadata": {},
   "source": [
    "## Question 2\n",
    "Implement the Decision Tree algorithm (CART, Classification and Regression Trees) and trained the model by the given arguments, and print the accuracy score on the validation data. You should implement two arguments for the Decision Tree algorithm\n",
    "1. **criterion**: The function to measure the quality of a split. Your model should support `gini` for the Gini impurity and `entropy` for the information gain. \n",
    "2. **max_depth**: The maximum depth of the tree. If `max_depth=None`, then nodes are expanded until all leaves are pure. `max_depth=1` equals to split data once\n"
   ]
  },
  {
   "cell_type": "code",
   "execution_count": 8,
   "metadata": {},
   "outputs": [],
   "source": [
    "# describe nodes in the decision tree\n",
    "class Node:\n",
    "    def __init__(self, feature=None, threshold=None, left=None, right=None,*, value=None):\n",
    "        \n",
    "        # for decision node\n",
    "        self.feature = feature # the feature this node is divided with\n",
    "        self.threshold = threshold # the threshold this node is divided with\n",
    "        self.left = left # the left tree that is pointing to \n",
    "        self.right = right # the right tree that is pointing to\n",
    "        \n",
    "        # for leaf node\n",
    "        self.value = value # the value of the tree\n",
    "        \n",
    "    # include a check, to see if this node is a leaf node or not\n",
    "    def is_leaf_node(self):\n",
    "        return self.value is not None"
   ]
  },
  {
   "cell_type": "code",
   "execution_count": 9,
   "metadata": {},
   "outputs": [],
   "source": [
    "class DecisionTree():\n",
    "    \n",
    "    # initialization\n",
    "    #******************************************\n",
    "    def __init__(self, criterion='gini', max_depth=None, n_features=None, random=False):\n",
    "        \n",
    "        # record feature importance\n",
    "        self.feat_list = []\n",
    "\n",
    "        # mode selection\n",
    "        self.criterion = criterion\n",
    "        if criterion == 'gini':\n",
    "            self.measure_func = gini\n",
    "        else:\n",
    "            self.measure_func = entropy\n",
    "            \n",
    "        # stopping criteria\n",
    "        self.max_depth = max_depth\n",
    "        \n",
    "        # number of features, we are not using all of the features in the tree,\n",
    "        # but just a subset of them, used for random forest\n",
    "        self.n_features = n_features\n",
    "        \n",
    "        # use random feature or not\n",
    "        self.random = random\n",
    "        \n",
    "        # keep access to he root of the node, used for traversing\n",
    "        self.root = None\n",
    "\n",
    "        \n",
    "    # fitting with helper functions\n",
    "    #****************************************\n",
    "    def fit(self, x_data, y_data, sample_weight=None):\n",
    "        if self.n_features is None:\n",
    "            self.n_features = x_data.shape[1]\n",
    "        \n",
    "        self.sample_weight = sample_weight\n",
    "        \n",
    "        # _grow_tree will return the root of the tree in the end\n",
    "        self.root = self._grow_tree(x_data, y_data)\n",
    "            \n",
    "    \n",
    "    def _grow_tree(self, x_data, y_data, depth=0,*,other_side_ydata=None):\n",
    "                                      # first set the depth to 0, while we are creating the tree\n",
    "                                      # increase it by 1\n",
    "        n_samples, n_feats = x_data.shape\n",
    "        n_lables = len(np.unique(y_data))\n",
    "        \n",
    "        # 1. check the stopping critiria: meet max depth or is a leaf node\n",
    "        # stop growing the tree and create a new node, then return it\n",
    "        # find out the most common label inside the node\n",
    "        if((self.max_depth is not None and depth >=self.max_depth) or n_lables==1 or n_lables==0):\n",
    "            if n_lables==0:\n",
    "                leaf_value = self._most_common_label(other_side_ydata)\n",
    "                return Node(value=leaf_value)\n",
    "            else:\n",
    "                leaf_value = self._most_common_label(y_data)\n",
    "                return Node(value=leaf_value)\n",
    "        \n",
    "        # pick the features we want to consider\n",
    "        if self.random==False:\n",
    "            feat_idxs = np.arange(n_feats)\n",
    "        else:\n",
    "            if self.n_features  == n_feats + 1:\n",
    "                self.n_features -= 1\n",
    "            feat_idxs = np.random.choice(np.arange(n_feats), self.n_features, replace=False)\n",
    "        \n",
    "        # 2. find the best split\n",
    "        # if can't find feature and threshold, return the node\n",
    "        best_feature, best_thresh = self._best_split(x_data, y_data, feat_idxs)\n",
    "        if best_thresh is None or best_feature is None:\n",
    "            leaf_value = self._most_common_label(y_data)\n",
    "            return Node(value=leaf_value)\n",
    "        self.feat_list.append(best_feature)\n",
    "\n",
    "        # 3. create child nodes\n",
    "        left_idxs, right_idxs = self._split(x_data[:, best_feature], best_thresh)\n",
    "        \n",
    "        # build the subtree recursively:\n",
    "        # grow left tree\n",
    "        left = self._grow_tree(x_data[left_idxs, :], y_data[left_idxs], depth+1)\n",
    "        # grow right tree\n",
    "        right = self._grow_tree(x_data[right_idxs, :], y_data[right_idxs], depth+1)\n",
    "        \n",
    "        return Node(best_feature, best_thresh, left, right)\n",
    "        \n",
    "        \n",
    "    \n",
    "    # find the best threshold/split among all possible thresholds/split\n",
    "    def _best_split(self, x_data, y_data, feat_idxs):\n",
    "        \n",
    "        smallest_impurity = 100 # the impurity value\n",
    "        split_idx, split_threshold = None, None\n",
    "    \n",
    "        # traverse all possible features\n",
    "        for feat_idx in feat_idxs:\n",
    "            x_column = x_data[:, feat_idx]\n",
    "            # get all the possible threshold\n",
    "            thresholds = np.unique(x_column)\n",
    "            \n",
    "            # traverse all possible thresholds\n",
    "            for threshold in thresholds:\n",
    "                # calculate the information gain\n",
    "                impurity = self._information_gain(y_data, x_column, threshold)\n",
    "\n",
    "                if impurity < smallest_impurity:\n",
    "                    smallest_impurity = impurity\n",
    "                    split_idx = feat_idx\n",
    "                    split_threshold = threshold\n",
    "\n",
    "        return split_idx, split_threshold\n",
    "    \n",
    "    \n",
    "    def _information_gain(self, y_data, x_column, threshold):\n",
    "        \n",
    "       \n",
    "        # 1. create children\n",
    "        # split data according to current threshold\n",
    "        left_idxs, right_idxs = self._split(x_column, threshold)\n",
    "        \n",
    "        # if either side is empty, just return the the IG is 0(didn't do splitting)\n",
    "        if(len(left_idxs)==0 or len(right_idxs)==0):\n",
    "            return 100\n",
    "        \n",
    "        child_value = 0\n",
    "        # 2. calculate the weighted avg. evaluation of children\n",
    "        if self.sample_weight is None:\n",
    "            # calculate the measure_func(gini or entropy) values of left and right\n",
    "            value_l, value_r = self.measure_func(y_data[left_idxs]), self.measure_func(y_data[right_idxs])\n",
    "            \n",
    "            # calculate the weighted avg. value of children \n",
    "            n = len(y_data) # how many samples we have in y_data\n",
    "            n_l, n_r = len(left_idxs), len(right_idxs) # how many samples we have in left and right nodes\n",
    "            child_value = (n_l/n) * value_l + (n_r/n) * value_r\n",
    "        else:\n",
    "            # separate sample weights into left and right node\n",
    "            left_weight_data = self.sample_weight[left_idxs]\n",
    "            right_weight_data = self.sample_weight[right_idxs]\n",
    "            \n",
    "            # calculate the measure_func(gini or entropy) values of left and right\n",
    "            value_l, value_r = self.measure_func(y_data[left_idxs], left_weight_data), self.measure_func(y_data[right_idxs], right_weight_data)\n",
    "            \n",
    "            left_weight_sum = np.sum(left_weight_data)\n",
    "            right_weight_sum = np.sum(right_weight_data)\n",
    "            weight_sum = np.sum(self.sample_weight)\n",
    "            \n",
    "            child_value = (left_weight_sum/weight_sum) * value_l + (right_weight_sum/weight_sum) * value_r\n",
    "        \n",
    "        return child_value\n",
    "        \n",
    "    # split the x_column data into left and right nodes\n",
    "    def _split(self, x_column, threshold):\n",
    "        # indices that go to the left tree\n",
    "        left_idxs = np.argwhere(x_column < threshold).flatten()\n",
    "        # indices that go to the right tree\n",
    "        right_idxs = np.argwhere(x_column >= threshold).flatten()\n",
    "        \n",
    "        return left_idxs, right_idxs\n",
    "    \n",
    "    # count the most common value inside the node\n",
    "    def _most_common_label(self, y):\n",
    "        class_label, class_count = np.unique(y, return_counts= True)\n",
    "        return class_label[np.argmax(class_count)]\n",
    "        \n",
    "    # prediction with helper function\n",
    "    #****************************************    \n",
    "    def predict(self, x_data):\n",
    "        return np.array([self._traverse_tree(x, self.root) for x in x_data])\n",
    "    \n",
    "    def _traverse_tree(self, x, node):\n",
    "        # x is data(row) being predicted, and node is where x is right now\n",
    "        \n",
    "        if node.is_leaf_node():\n",
    "            return node.value\n",
    "        \n",
    "        if x[node.feature] < node.threshold:\n",
    "            # pass the left side of the tree to be traverse\n",
    "            return self._traverse_tree(x, node.left)\n",
    "        # pass the right side of the tree to be traverse\n",
    "        return self._traverse_tree(x, node.right)"
   ]
  },
  {
   "cell_type": "markdown",
   "metadata": {},
   "source": [
    "### Question 2.1\n",
    "Using `criterion=gini`, showing the accuracy score of validation data by `max_depth=3` and `max_depth=10`, respectively.\n"
   ]
  },
  {
   "cell_type": "code",
   "execution_count": 10,
   "metadata": {},
   "outputs": [],
   "source": [
    "clf_depth3 = DecisionTree(criterion='gini', max_depth=3)\n",
    "clf_depth10 = DecisionTree(criterion='gini', max_depth=10)"
   ]
  },
  {
   "cell_type": "code",
   "execution_count": 11,
   "metadata": {},
   "outputs": [
    {
     "name": "stdout",
     "output_type": "stream",
     "text": [
      "criterion=gini, max_depth=3, accuracy: 0.92\n",
      "criterion=gini, max_depth=10, accuracy: 0.93\n"
     ]
    }
   ],
   "source": [
    "clf_depth3.fit(x_train, y_train)\n",
    "print(\"criterion=gini, max_depth=3, accuracy:\", accuracy_score(clf_depth3.predict(x_test), y_test))\n",
    "\n",
    "clf_depth10.fit(x_train, y_train)\n",
    "print(\"criterion=gini, max_depth=10, accuracy:\", accuracy_score(clf_depth10.predict(x_test), y_test))"
   ]
  },
  {
   "cell_type": "markdown",
   "metadata": {},
   "source": [
    "### Question 2.2\n",
    "Using `max_depth=3`, showing the accuracy score of validation data by `criterion=gini` and `criterion=entropy`, respectively.\n"
   ]
  },
  {
   "cell_type": "code",
   "execution_count": 12,
   "metadata": {},
   "outputs": [],
   "source": [
    "clf_gini = DecisionTree(criterion='gini', max_depth=3)\n",
    "clf_entropy = DecisionTree(criterion='entropy', max_depth=3)"
   ]
  },
  {
   "cell_type": "code",
   "execution_count": 13,
   "metadata": {
    "scrolled": true
   },
   "outputs": [
    {
     "name": "stdout",
     "output_type": "stream",
     "text": [
      "criterion=gini, max_depth=3, accuracy: 0.92\n",
      "criterion=entropy, max_depth=3, accuracy: 0.9333333333333333\n"
     ]
    }
   ],
   "source": [
    "clf_gini.fit(x_train, y_train)\n",
    "print(\"criterion=gini, max_depth=3, accuracy:\", accuracy_score(clf_gini.predict(x_test), y_test))\n",
    "\n",
    "clf_entropy.fit(x_train, y_train)\n",
    "print(\"criterion=entropy, max_depth=3, accuracy:\", accuracy_score(clf_entropy.predict(x_test), y_test))"
   ]
  },
  {
   "cell_type": "markdown",
   "metadata": {},
   "source": [
    "- Note: Your decisition tree scores should over **0.7**. It may suffer from overfitting, if so, you can tune the hyperparameter such as `max_depth`\n",
    "- Note: You should get the same results when re-building the model with the same arguments,  no need to prune the trees\n",
    "- Hint: You can use the recursive method to build the nodes\n"
   ]
  },
  {
   "cell_type": "markdown",
   "metadata": {},
   "source": [
    "## Question 3\n",
    "Plot the [feature importance](https://sefiks.com/2020/04/06/feature-importance-in-decision-trees/) of your Decision Tree model. You can get the feature importance by counting the feature used for splitting data.\n",
    "\n",
    "- You can simply plot the **counts of feature used** for building tree without normalize the importance. Take the figure below as example, outlook feature has been used for splitting for almost 50 times. Therefore, it has the largest importance\n",
    "\n",
    "![image](https://i2.wp.com/sefiks.com/wp-content/uploads/2020/04/c45-fi-results.jpg?w=481&ssl=1)"
   ]
  },
  {
   "cell_type": "code",
   "execution_count": 14,
   "metadata": {},
   "outputs": [
    {
     "data": {
      "image/png": "[encoded data removed]",
      "text/plain": [
       "<Figure size 640x480 with 1 Axes>"
      ]
     },
     "metadata": {},
     "output_type": "display_data"
    }
   ],
   "source": [
    "# first, we count the number of appearances of each features\n",
    "feat_idxs, cnt = np.unique(clf_depth10.feat_list, return_counts=True)\n",
    "# and then sort them by number of appearances\n",
    "feat_idxs = feat_idxs[np.argsort(cnt)]\n",
    "cnt = cnt[np.argsort(cnt)]\n",
    "\n",
    "# second, we select the feature name from datafrmae to form a new list, which is in the \n",
    "# order of number of appearances\n",
    "feature = []\n",
    "for idx in feat_idxs:\n",
    "    feature.append(train_df.columns[idx])\n",
    "\n",
    "# last, we draw our graph\n",
    "plt.barh(feature, cnt, color='blue')\n",
    "plt.title('Feature Importance')\n",
    "plt.show()"
   ]
  },
  {
   "cell_type": "markdown",
   "metadata": {},
   "source": [
    "## Question 4\n",
    "implement the AdaBooest algorithm by using the CART you just implemented from question 2 as base learner. You should implement one arguments for the AdaBooest.\n",
    "1. **n_estimators**: The maximum number of estimators at which boosting is terminated"
   ]
  },
  {
   "cell_type": "code",
   "execution_count": 15,
   "metadata": {},
   "outputs": [],
   "source": [
    "class AdaBoost():\n",
    "    def __init__(self, n_estimators):\n",
    "                     # n_estimators = number of iterations = number of weak learners\n",
    "        self.n_estimators = n_estimators\n",
    "        self.alphas = [] # weights for weak classifiers\n",
    "        self.clfs = [] # list of classifiers\n",
    "    \n",
    "\n",
    "    def fit(self, x_data, y_data):\n",
    "        \n",
    "        n_samples, n_features = x_data.shape\n",
    "        \n",
    "        # initialize the weights\n",
    "        w = np.full(n_samples, (1/n_samples))\n",
    "        \n",
    "        # iterate through base learners\n",
    "        for i in range(self.n_estimators):\n",
    "            \n",
    "            clf_depth1 = DecisionTree(criterion='gini', max_depth=1) # initialization\n",
    "            self.clfs.append(clf_depth1)\n",
    "            self.clfs[i].fit(x_data, y_data, sample_weight=w) # fitting\n",
    "            pred = self.clfs[i].predict(x_data) # prediction\n",
    "            \n",
    "            \n",
    "            # calculate the error and update w from misclassified case\n",
    "            \n",
    "            # pick the predictions' weights where pred!=y_data\n",
    "            # x=1 if pred!=y_data\n",
    "            miss = [int(x) for x in (pred != y_data)]\n",
    "            error = np.dot(w, miss)\n",
    "\n",
    "            # misclassified: pred*y_data=-1, correct: pred*y_data=1\n",
    "            yh = [-1 if x == 1 else 1 for x in miss]\n",
    "\n",
    "            # update alpha and data weight\n",
    "            alpha = 0.5 * np.log((1 - error) / error)\n",
    "            self.alphas.append(alpha)\n",
    "\n",
    "            w = np.multiply(w, np.exp([-x * self.alphas[i] for x in yh]))\n",
    "\n",
    "            # normalize data weights so that the sum of data weights is 1\n",
    "            w = w / np.sum(w)\n",
    "\n",
    "    \n",
    "    def predict(self, x_data):\n",
    "        pred = np.zeros(len(x_data))\n",
    "        for i in range(len(self.clfs)):\n",
    "            weak_pred = self.clfs[i].predict(x_data)\n",
    "            weak_pred[weak_pred==0] = -1\n",
    "            pred += self.alphas[i]*weak_pred\n",
    "        \n",
    "        pred = np.sign(pred)\n",
    "        pred[pred<0] = 0\n",
    "        return pred"
   ]
  },
  {
   "cell_type": "markdown",
   "metadata": {},
   "source": [
    "### Question 4.1\n",
    "Show the accuracy score of validation data by `n_estimators=10` and `n_estimators=100`, respectively.\n"
   ]
  },
  {
   "cell_type": "code",
   "execution_count": 16,
   "metadata": {},
   "outputs": [],
   "source": [
    "clf_Ada_10 = AdaBoost(n_estimators=10)\n",
    "clf_Ada_10.fit(x_train, y_train)\n",
    "y_pred = clf_Ada_10.predict(x_test)"
   ]
  },
  {
   "cell_type": "code",
   "execution_count": 17,
   "metadata": {},
   "outputs": [
    {
     "name": "stdout",
     "output_type": "stream",
     "text": [
      "n_estimators=10\n",
      "Test-set accuarcy score:  0.95\n"
     ]
    }
   ],
   "source": [
    "print('n_estimators=10')\n",
    "print('Test-set accuarcy score: ', accuracy_score(y_test, y_pred))"
   ]
  },
  {
   "cell_type": "code",
   "execution_count": 18,
   "metadata": {},
   "outputs": [],
   "source": [
    "clf_Ada_100 = AdaBoost(n_estimators=100)\n",
    "clf_Ada_100.fit(x_train, y_train)\n",
    "y_pred = clf_Ada_100.predict(x_test)"
   ]
  },
  {
   "cell_type": "code",
   "execution_count": 19,
   "metadata": {},
   "outputs": [
    {
     "name": "stdout",
     "output_type": "stream",
     "text": [
      "n_estimators=100\n",
      "Test-set accuarcy score:  0.9766666666666667\n"
     ]
    }
   ],
   "source": [
    "print('n_estimators=100')\n",
    "print('Test-set accuarcy score: ', accuracy_score(y_test, y_pred))"
   ]
  },
  {
   "cell_type": "markdown",
   "metadata": {},
   "source": [
    "## Question 5\n",
    "implement the Random Forest algorithm by using the CART you just implemented from question 2. You should implement three arguments for the Random Forest.\n",
    "\n",
    "1. **n_estimators**: The number of trees in the forest. \n",
    "2. **max_features**: The number of random select features to consider when looking for the best split\n",
    "3. **bootstrap**: Whether bootstrap samples are used when building tree\n"
   ]
  },
  {
   "cell_type": "code",
   "execution_count": 20,
   "metadata": {},
   "outputs": [],
   "source": [
    "class RandomForest():\n",
    "    def __init__(self, n_estimators, max_features, boostrap=True, criterion='gini', max_depth=None):\n",
    "        self.n_estimators = n_estimators # The number of trees in the forest\n",
    "        self.max_features = int(max_features) # The number of random select features to consider \n",
    "                                              # when looking for the best split\n",
    "        self.boostrap = boostrap\n",
    "        self.criterion = criterion\n",
    "        self.max_depth = max_depth\n",
    "        self.trees = [] # store each single tree\n",
    "        \n",
    "    def fit(self, x_data, y_data):\n",
    "        self.trees = []\n",
    "        \n",
    "        for i in range(self.n_estimators):\n",
    "            # boostrapping\n",
    "            if self.boostrap:\n",
    "                sample_idx = np.random.choice(len(x_data), size=len(x_data), replace=True)\n",
    "            else:\n",
    "                sample_idx = np.arrange((len(x_data)))\n",
    "            tree = DecisionTree(criterion=self.criterion, \n",
    "                                max_depth=self.max_depth, \n",
    "                                n_features=self.max_features,\n",
    "                                random=True)\n",
    "            \n",
    "            tree.fit(x_data[sample_idx], y_data[sample_idx])\n",
    "            self.trees.append(tree)\n",
    "            \n",
    "            \n",
    "    def predict(self, x_data):\n",
    "\n",
    "        y_pred = np.zeros(len(x_data), dtype='int64')\n",
    "        for i in range(len(self.trees)):\n",
    "            y_pred += self.trees[i].predict(x_data)\n",
    "\n",
    "        mask = (y_pred > (self.n_estimators / 2)) # mask is a 'True' or 'False' array\n",
    "        y_pred[mask] = 1 # set elements in y_pred to 1 if its corresponding mask is 'True'\n",
    "        y_pred[(mask == False)] = 0 # set elements in y_pred to 0 if its corresponding mask is 'False'\n",
    "        return y_pred"
   ]
  },
  {
   "cell_type": "markdown",
   "metadata": {},
   "source": [
    "### Question 5.1\n",
    "Using `criterion=gini`, `max_depth=None`, `max_features=sqrt(n_features)`, showing the accuracy score of validation data by `n_estimators=10` and `n_estimators=100`, respectively.\n"
   ]
  },
  {
   "cell_type": "code",
   "execution_count": 21,
   "metadata": {
    "scrolled": false
   },
   "outputs": [
    {
     "name": "stdout",
     "output_type": "stream",
     "text": [
      "n_estimators=10, test-set accuarcy score:  0.9166666666666666\n"
     ]
    }
   ],
   "source": [
    "clf_10tree = RandomForest(n_estimators=10, max_features=np.sqrt(x_train.shape[1]))\n",
    "clf_10tree.fit(x_train, y_train)\n",
    "y_pred = clf_10tree.predict(x_test)\n",
    "print('n_estimators=10, test-set accuarcy score: ', accuracy_score(y_test, y_pred))"
   ]
  },
  {
   "cell_type": "code",
   "execution_count": 22,
   "metadata": {},
   "outputs": [
    {
     "name": "stdout",
     "output_type": "stream",
     "text": [
      "n_estimators=100, test-set accuarcy score:  0.94\n"
     ]
    }
   ],
   "source": [
    "clf_100tree = RandomForest(n_estimators=100, max_features=np.sqrt(x_train.shape[1]))\n",
    "clf_100tree.fit(x_train, y_train)\n",
    "y_pred = clf_100tree.predict(x_test)\n",
    "print('n_estimators=100, test-set accuarcy score: ', accuracy_score(y_test, y_pred))"
   ]
  },
  {
   "cell_type": "markdown",
   "metadata": {},
   "source": [
    "### Question 5.2\n",
    "Using `criterion=gini`, `max_depth=None`, `n_estimators=10`, showing the accuracy score of validation data by `max_features=sqrt(n_features)` and `max_features=n_features`, respectively.\n"
   ]
  },
  {
   "cell_type": "code",
   "execution_count": 23,
   "metadata": {},
   "outputs": [
    {
     "name": "stdout",
     "output_type": "stream",
     "text": [
      "n_estimators=10, max_features=sqrt(n_features), accuracy: 0.9166666666666666\n",
      "n_estimators=10, max_features=n_features, accuracy: 0.96\n"
     ]
    }
   ],
   "source": [
    "clf_random_features = RandomForest(n_estimators=10, max_features=np.sqrt(x_train.shape[1]))\n",
    "clf_all_features = RandomForest(n_estimators=10, max_features=x_train.shape[1])\n",
    "\n",
    "clf_random_features.fit(x_train, y_train)\n",
    "print(\"n_estimators=10, max_features=sqrt(n_features), accuracy:\", accuracy_score(clf_random_features.predict(x_test), y_test))\n",
    "\n",
    "clf_all_features.fit(x_train, y_train)\n",
    "print(\"n_estimators=10, max_features=n_features, accuracy:\", accuracy_score(clf_all_features.predict(x_test), y_test))"
   ]
  },
  {
   "cell_type": "markdown",
   "metadata": {},
   "source": [
    "- Note: Use majority votes to get the final prediction, you may get slightly different results when re-building the random forest model"
   ]
  },
  {
   "cell_type": "markdown",
   "metadata": {},
   "source": [
    "### Question 6. Train and tune your model on a real-world dataset\n",
    "Try you best to get higher accuracy score of your model. After parameter tuning, you can train your model on the full dataset (train + val).\n",
    "- Feature engineering\n",
    "- Hyperparameter tuning\n",
    "- Implement any other ensemble methods, such as gradient boosting. Please note that you **can not** call any package. Also, only ensemble method can be used. Neural network method is not allowed to used."
   ]
  },
  {
   "cell_type": "code",
   "execution_count": 24,
   "metadata": {},
   "outputs": [],
   "source": [
    "def train_your_model(x, y):\n",
    "    ## Define your model and training \n",
    "    my_model = AdaBoost(n_estimators=150)\n",
    "    my_model.fit(x, y)\n",
    "    return my_model"
   ]
  },
  {
   "cell_type": "code",
   "execution_count": 25,
   "metadata": {},
   "outputs": [],
   "source": [
    "my_model = train_your_model(x_train, y_train)"
   ]
  },
  {
   "cell_type": "code",
   "execution_count": 26,
   "metadata": {},
   "outputs": [
    {
     "name": "stdout",
     "output_type": "stream",
     "text": [
      "Test-set accuarcy score:  0.9766666666666667\n"
     ]
    }
   ],
   "source": [
    "y_pred = my_model.predict(x_test)\n",
    "print('Test-set accuarcy score: ', accuracy_score(y_test, y_pred))"
   ]
  },
  {
   "cell_type": "code",
   "execution_count": 27,
   "metadata": {},
   "outputs": [],
   "source": [
    "np.save('y_pred.npy', y_pred)"
   ]
  },
  {
   "cell_type": "code",
   "execution_count": 28,
   "metadata": {},
   "outputs": [
    {
     "ename": "AssertionError",
     "evalue": "",
     "output_type": "error",
     "traceback": [
      "\u001b[1;31m---------------------------------------------------------------------------\u001b[0m",
      "\u001b[1;31mAssertionError\u001b[0m                            Traceback (most recent call last)",
      "Input \u001b[1;32mIn [28]\u001b[0m, in \u001b[0;36m<cell line: 1>\u001b[1;34m()\u001b[0m\n\u001b[1;32m----> 1\u001b[0m \u001b[38;5;28;01massert\u001b[39;00m y_pred\u001b[38;5;241m.\u001b[39mshape \u001b[38;5;241m==\u001b[39m (\u001b[38;5;241m500\u001b[39m, )\n",
      "\u001b[1;31mAssertionError\u001b[0m: "
     ]
    }
   ],
   "source": [
    "assert y_pred.shape == (500, )"
   ]
  },
  {
   "cell_type": "markdown",
   "metadata": {},
   "source": [
    "## Supplementary\n",
    "If you have trouble to implement this homework, TA strongly recommend watching [this video](https://www.youtube.com/watch?v=LDRbO9a6XPU), which explains Decision Tree model clearly. But don't copy code from any resources, try to finish this homework by yourself! "
   ]
  },
  {
   "cell_type": "markdown",
   "metadata": {},
   "source": [
    "### DO NOT MODIFY CODE BELOW"
   ]
  },
  {
   "cell_type": "code",
   "execution_count": null,
   "metadata": {},
   "outputs": [],
   "source": [
    "import pandas as pd\n",
    "from sklearn.metrics import accuracy_score\n",
    "y_test = pd.read_csv('y_test.csv')['price_range'].values\n",
    "\n",
    "print('Test-set accuarcy score: ', accuracy_score(y_test, y_pred))"
   ]
  },
  {
   "cell_type": "code",
   "execution_count": null,
   "metadata": {},
   "outputs": [],
   "source": [
    "def discrete_checker(score, thres, clf, name, x_train, y_train, x_test, y_test):\n",
    "    clf.fit(x_train, y_train)\n",
    "    y_pred = clf.predict(x_test)\n",
    "    if accuracy_score(y_test, y_pred) - thres >= 0:\n",
    "        return score\n",
    "    else:\n",
    "        print(f\"{name} failed\")\n",
    "        return 0\n",
    "\n",
    "\n",
    "def patient_checker(score, thres, CLS, kwargs, name,\n",
    "                    x_train, y_train, x_test, y_test, patient=10):\n",
    "    while patient > 0:\n",
    "        patient -= 1\n",
    "        clf = CLS(**kwargs)\n",
    "        clf.fit(x_train, y_train)\n",
    "        y_pred = clf.predict(x_test)\n",
    "        if accuracy_score(y_test, y_pred) - thres >= 0:\n",
    "            return score\n",
    "    print(f\"{name} failed\")\n",
    "    print(\"Considering the randomness, we will check it manually\")\n",
    "    return 0\n",
    "\n",
    "\n",
    "def load_dataset():\n",
    "    file_url = \"http://storage.googleapis.com/download.tensorflow.org/data/abalone_train.csv\"\n",
    "    df = pd.read_csv(\n",
    "        file_url,\n",
    "        names=[\"Length\", \"Diameter\", \"Height\", \"Whole weight\", \"Shucked weight\",\n",
    "               \"Viscera weight\", \"Shell weight\", \"Age\"]\n",
    "    )\n",
    "\n",
    "    df['Target'] = (df[\"Age\"] > 15).astype(int)\n",
    "    df = df.drop(labels=[\"Age\"], axis=\"columns\")\n",
    "\n",
    "    train_idx = range(0, len(df), 10)\n",
    "    test_idx = range(1, len(df), 20)\n",
    "\n",
    "    train_df = df.iloc[train_idx]\n",
    "    test_df = df.iloc[test_idx]\n",
    "\n",
    "    x_train = train_df.drop(labels=[\"Target\"], axis=\"columns\")\n",
    "    feature_names = x_train.columns.values\n",
    "    x_train = x_train.values\n",
    "    y_train = train_df['Target'].values\n",
    "\n",
    "    x_test = test_df.drop(labels=[\"Target\"], axis=\"columns\")\n",
    "    x_test = x_test.values\n",
    "    y_test = test_df['Target'].values\n",
    "    return x_train, y_train, x_test, y_test, feature_names\n",
    "\n",
    "\n",
    "score = 0\n",
    "\n",
    "data = np.array([1, 2])\n",
    "if abs(gini(data) - 0.5) < 1e-4:\n",
    "    score += 2.5\n",
    "else:\n",
    "    print(\"gini test failed\")\n",
    "\n",
    "if abs(entropy(data) - 1) < 1e-4:\n",
    "    score += 2.5\n",
    "else:\n",
    "    print(\"entropy test failed\")\n",
    "\n",
    "x_train, y_train, x_test, y_test, feature_names = load_dataset()\n",
    "\n",
    "score += discrete_checker(5, 0.9337,\n",
    "                          DecisionTree(criterion='gini', max_depth=3),\n",
    "                          \"DecisionTree(criterion='gini', max_depth=3)\",\n",
    "                          x_train, y_train, x_test, y_test\n",
    "                          )\n",
    "\n",
    "score += discrete_checker(2.5, 0.9036,\n",
    "                          DecisionTree(criterion='gini', max_depth=10),\n",
    "                          \"DecisionTree(criterion='gini', max_depth=10)\",\n",
    "                          x_train, y_train, x_test, y_test\n",
    "                          )\n",
    "\n",
    "score += discrete_checker(2.5, 0.9096,\n",
    "                          DecisionTree(criterion='entropy', max_depth=3),\n",
    "                          \"DecisionTree(criterion='entropy', max_depth=3)\",\n",
    "                          x_train, y_train, x_test, y_test\n",
    "                          )\n",
    "\n",
    "print(\"*** We will check your result for Question 3 manually *** (5 points)\")\n",
    "\n",
    "score += patient_checker(\n",
    "    7.5, 0.91, AdaBoost, {\"n_estimators\": 10},\n",
    "    \"AdaBoost(n_estimators=10)\",\n",
    "    x_train, y_train, x_test, y_test\n",
    ")\n",
    "\n",
    "score += patient_checker(\n",
    "    7.5, 0.87, AdaBoost, {\"n_estimators\": 100},\n",
    "    \"AdaBoost(n_estimators=100)\",\n",
    "    x_train, y_train, x_test, y_test\n",
    ")\n",
    "\n",
    "score += patient_checker(\n",
    "    5, 0.91, RandomForest,\n",
    "    {\"n_estimators\": 10, \"max_features\": np.sqrt(x_train.shape[1])},\n",
    "    \"RandomForest(n_estimators=10, max_features=sqrt(n_features))\",\n",
    "    x_train, y_train, x_test, y_test\n",
    ")\n",
    "\n",
    "score += patient_checker(\n",
    "    5, 0.91, RandomForest,\n",
    "    {\"n_estimators\": 100, \"max_features\": np.sqrt(x_train.shape[1])},\n",
    "    \"RandomForest(n_estimators=100, max_features=sqrt(n_features))\",\n",
    "    x_train, y_train, x_test, y_test\n",
    ")\n",
    "\n",
    "score += patient_checker(\n",
    "    5, 0.92, RandomForest,\n",
    "    {\"n_estimators\": 10, \"max_features\": x_train.shape[1]},\n",
    "    \"RandomForest(n_estimators=10, max_features=n_features)\",\n",
    "    x_train, y_train, x_test, y_test\n",
    ")\n",
    "\n",
    "print(\"*** We will check your result for Question 6 manually *** (20 points)\")\n",
    "print(\"Approximate score range:\", score, \"~\", score + 25)\n",
    "print(\"*** This score is only for reference ***\")\n"
   ]
  }
 ],
 "metadata": {
  "kernelspec": {
   "display_name": "Python 3 (ipykernel)",
   "language": "python",
   "name": "python3"
  },
  "language_info": {
   "codemirror_mode": {
    "name": "ipython",
    "version": 3
   },
   "file_extension": ".py",
   "mimetype": "text/x-python",
   "name": "python",
   "nbconvert_exporter": "python",
   "pygments_lexer": "ipython3",
   "version": "3.9.12"
  },
  "vscode": {
   "interpreter": {
    "hash": "0d99bfbbd4799c382bebdd1fa364ad9e55f169dfd2813789b2b8ad9627c9eea4"
   }
  }
 },
 "nbformat": 4,
 "nbformat_minor": 4
}
